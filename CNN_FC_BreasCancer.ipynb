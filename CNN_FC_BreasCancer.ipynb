{
  "nbformat": 4,
  "nbformat_minor": 0,
  "metadata": {
    "colab": {
      "name": "FinalWithCNN (1).ipynb",
      "provenance": [],
      "collapsed_sections": []
    },
    "kernelspec": {
      "name": "python3",
      "display_name": "Python 3"
    },
    "accelerator": "GPU"
  },
  "cells": [
    {
      "cell_type": "code",
      "metadata": {
        "id": "6NjdzYgYwfuW"
      },
      "source": [
        "!mkdir -p ~/.kaggle"
      ],
      "execution_count": null,
      "outputs": []
    },
    {
      "cell_type": "code",
      "metadata": {
        "id": "dq-JVmlxzoOV"
      },
      "source": [
        "!cp kaggle.json ~/.kaggle/"
      ],
      "execution_count": null,
      "outputs": []
    },
    {
      "cell_type": "code",
      "metadata": {
        "id": "0POXIAINzs2E",
        "colab": {
          "base_uri": "https://localhost:8080/",
          "height": 68
        },
        "outputId": "d72b7440-43c6-4d5e-99b5-659a908f918c"
      },
      "source": [
        "!chmod 600 /root/.kaggle/kaggle.jsonhttps://www.kaggle.com/paultimothymooney/breast-histopathology-images\n",
        "!kaggle datasets download paultimothymooney/breast-histopathology-images"
      ],
      "execution_count": null,
      "outputs": [
        {
          "output_type": "stream",
          "text": [
            "Downloading breast-histopathology-images.zip to /content\n",
            "100% 3.09G/3.10G [01:22<00:00, 41.6MB/s]\n",
            "100% 3.10G/3.10G [01:22<00:00, 40.5MB/s]\n"
          ],
          "name": "stdout"
        }
      ]
    },
    {
      "cell_type": "code",
      "metadata": {
        "id": "AyVIFh-ez1l-",
        "colab": {
          "base_uri": "https://localhost:8080/",
          "height": 51
        },
        "outputId": "a2b1ec09-e6ed-423f-f738-e9d997ffb7be"
      },
      "source": [
        "!pip install split-folders tqdm"
      ],
      "execution_count": null,
      "outputs": [
        {
          "output_type": "stream",
          "text": [
            "Requirement already satisfied: split-folders in /usr/local/lib/python3.6/dist-packages (0.3.1)\n",
            "Requirement already satisfied: tqdm in /usr/local/lib/python3.6/dist-packages (4.41.1)\n"
          ],
          "name": "stdout"
        }
      ]
    },
    {
      "cell_type": "code",
      "metadata": {
        "id": "sTShonRb0Blu"
      },
      "source": [
        "from __future__ import absolute_import, division, print_function, unicode_literals\n",
        "%tensorflow_version 2.x\n",
        "import os\n",
        "import shutil\n",
        "from random import shuffle\n",
        "#import split_folders\n",
        "import zipfile\n",
        "\n",
        "import numpy as np\n",
        "import tensorflow as tf\n",
        "from tensorflow import keras\n",
        "import time\n",
        "from tensorflow.python.keras.models import Sequential\n",
        "from tensorflow.python.keras.layers import Dense, Conv2D, Flatten, Dropout, MaxPooling2D, BatchNormalization, Activation, LeakyReLU\n",
        "from tensorflow.python.keras.preprocessing.image import ImageDataGenerator\n",
        "from tensorflow.keras.callbacks import EarlyStopping, ModelCheckpoint\n",
        "from tensorflow.keras import regularizers\n",
        "import matplotlib.pyplot as plt\n",
        "import split_folders\n",
        "import tqdm\n",
        "from sklearn.metrics import classification_report, confusion_matrix\n",
        "import seaborn as sn\n",
        "import tensorflow_addons as tfa"
      ],
      "execution_count": null,
      "outputs": []
    },
    {
      "cell_type": "code",
      "metadata": {
        "id": "0X-dPTup5oYl"
      },
      "source": [
        "path = os.getcwd()"
      ],
      "execution_count": null,
      "outputs": []
    },
    {
      "cell_type": "code",
      "metadata": {
        "id": "NoPF2zOZ0HvO"
      },
      "source": [
        "archive = zipfile.ZipFile(path + '/breast-histopathology-images.zip')\n",
        "\n",
        "for file in archive.namelist():\n",
        "    if file.startswith('IDC_regular_ps50_idx5/'):\n",
        "        archive.extract(file, path + '/photos')"
      ],
      "execution_count": null,
      "outputs": []
    },
    {
      "cell_type": "code",
      "metadata": {
        "id": "9zer2mE91Bjk",
        "colab": {
          "base_uri": "https://localhost:8080/",
          "height": 34
        },
        "outputId": "082357ba-18eb-4cd8-ee7e-3e0e84d2771b"
      },
      "source": [
        "base_path = '/content/photos/IDC_regular_ps50_idx5'\n",
        "patient_ids = os.listdir(base_path)\n",
        "print(len(patient_ids))\n"
      ],
      "execution_count": null,
      "outputs": [
        {
          "output_type": "stream",
          "text": [
            "279\n"
          ],
          "name": "stdout"
        }
      ]
    },
    {
      "cell_type": "code",
      "metadata": {
        "id": "0d6MIo855Xxy"
      },
      "source": [
        "# create empty directories for AllPhotos \n",
        "outputPath = '/content/AllPhotos/'\n",
        "os.mkdir(outputPath)\n",
        "outPutclass0 = outputPath + 'class_0'\n",
        "os.mkdir(outPutclass0)\n",
        "outPutclass1 = outputPath + 'class_1'\n",
        "os.mkdir(outPutclass1)\n",
        "os.mkdir('/content/SplittedFolders')"
      ],
      "execution_count": null,
      "outputs": []
    },
    {
      "cell_type": "code",
      "metadata": {
        "id": "eU6NMYkB5TQO",
        "colab": {
          "base_uri": "https://localhost:8080/",
          "height": 68
        },
        "outputId": "306f7345-2572-45a8-f83b-ffe8ba310b6a"
      },
      "source": [
        "class_0_total = 0\n",
        "class_1_total = 0\n",
        "for patient_id in patient_ids:\n",
        "    # adding double \\\\ because otherwise python recocnize it as escape character. \n",
        "    # example of class_0_files path : C:\\Users\\Marios\\Desktop\\BachelorThesis\\Final\\photos\\10253\\0\n",
        "    # class 0 consists of file that are Non-Invasive Ductal Carcinoma (IDC) and class 1 Invasive Ductal Carcinoma (IDC).\n",
        "    patient_path_class0 = base_path + \"/\" + patient_id + '/0'\n",
        "    patient_path_class1 = base_path + \"/\" + patient_id + '/1'\n",
        "    class_0_files = os.listdir(patient_path_class0)\n",
        "    class_1_files = os.listdir(patient_path_class1)\n",
        "    class_0_total += len(class_0_files)\n",
        "    class_1_total += len(class_1_files) \n",
        "    # copy all images to AllPhotos in order to split them.\n",
        "    for file_name in class_0_files:\n",
        "        full_file_name = os.path.join(patient_path_class0, file_name)\n",
        "        shutil.copy(full_file_name, outputPath + 'class_0')\n",
        "    for file_name in class_1_files:\n",
        "        full_file_name = os.path.join(patient_path_class1, file_name)\n",
        "        shutil.copy(full_file_name, outputPath + 'class_1')\n",
        "total_images = class_0_total + class_1_total\n",
        "    \n",
        "print(f'Number of patches in Class 0: {class_0_total}')\n",
        "print(f'Number of patches in Class 1: {class_1_total}')\n",
        "print(f'Total number of patches: {total_images}')"
      ],
      "execution_count": null,
      "outputs": [
        {
          "output_type": "stream",
          "text": [
            "Number of patches in Class 0: 198738\n",
            "Number of patches in Class 1: 78786\n",
            "Total number of patches: 277524\n"
          ],
          "name": "stdout"
        }
      ]
    },
    {
      "cell_type": "code",
      "metadata": {
        "id": "CsCuF0fz9Duq",
        "colab": {
          "base_uri": "https://localhost:8080/",
          "height": 34
        },
        "outputId": "9d18f5b0-3523-4bbd-a97d-b1fc637b51e8"
      },
      "source": [
        "# 80-10-10 % train, (validate) / test split.\n",
        "# Split with a ratio.\n",
        "# To only split into training and validation set, set a tuple to `ratio`, i.e, `(.8, .2)`.\n",
        "pathToImages = '/content/SplittedFolders'\n",
        "split_folders.ratio(outputPath, output= pathToImages, seed=1337, ratio=(.8, .1, .1)) # default values"
      ],
      "execution_count": null,
      "outputs": [
        {
          "output_type": "stream",
          "text": [
            "Copying files: 277524 files [01:23, 3313.22 files/s]\n"
          ],
          "name": "stderr"
        }
      ]
    },
    {
      "cell_type": "code",
      "metadata": {
        "id": "x-SjHqXpLoFb"
      },
      "source": [
        "# set up variables to use while pre-processing the dataset and training the network.\n",
        "seed = 2\n",
        "batch_size = 64\n",
        "epochs = 100\n",
        "IMG_HEIGHT = 50\n",
        "IMG_WIDTH = 50\n",
        "COLOR_DEPTH = 3\n",
        "METRICS = [\n",
        "      #tf.keras.metrics.FalsePositives(name = 'FP'),\n",
        "      #tf.keras.metrics.TruePositives(name = 'TP'),\n",
        "      #tf.keras.metrics.FalseNegatives(name = 'FN'),\n",
        "      #tf.keras.metrics.TrueNegatives(name = 'TN'),\n",
        "      #tf.keras.metrics.BinaryAccuracy(name='accuracy'),\n",
        "      tf.keras.metrics.Precision(name='precision'),\n",
        "      tf.keras.metrics.Recall(name='recall'),\n",
        "      tf.keras.metrics.AUC(name='auc'),\n",
        "     tfa.metrics.F1Score(num_classes = 1,average = None, threshold = 0.5 )\n",
        "]\n"
      ],
      "execution_count": null,
      "outputs": []
    },
    {
      "cell_type": "code",
      "metadata": {
        "id": "qvYOF4gA9eQh",
        "colab": {
          "base_uri": "https://localhost:8080/",
          "height": 51
        },
        "outputId": "11f5df7d-2e28-461a-81ac-2be71027ffb3"
      },
      "source": [
        "# rescales the pixels from 0 to 255 to 0 to 1 in order to\n",
        "# normalize them and feed them into our NN.\n",
        "train_image_generator = ImageDataGenerator(rescale=1./255\n",
        "                                          #horizontal_flip=True,\n",
        "                                          #vertical_flip=True,\n",
        "                                          #rotation_range=90\n",
        "                                          )  \n",
        "# Generator for our training data\n",
        "validation_image_generator = ImageDataGenerator(rescale=1./255)  # Generator for our validation data\n",
        "# the flow_from_directory method load images from the disk,\n",
        "# applies rescaling, and resizes the images into the required dimensions and make batches of 128 elements.\n",
        "train_dir = '/content/SplittedFolders/train'\n",
        "validation_dir = '/content/SplittedFolders/val'\n",
        "test_dir = '/content/SplittedFolders/test'\n",
        "train_data_gen = train_image_generator.flow_from_directory(batch_size=batch_size,\n",
        "                                                           directory=train_dir,\n",
        "                                                           target_size=(IMG_HEIGHT, IMG_WIDTH),\n",
        "                                                           class_mode='binary',\n",
        "                                                           seed = seed)\n",
        "val_data_gen = validation_image_generator.flow_from_directory(batch_size=batch_size,\n",
        "                                                              directory=validation_dir,\n",
        "                                                              target_size=(IMG_HEIGHT, IMG_WIDTH),\n",
        "                                                              class_mode='binary',\n",
        "                                                              seed = seed)\n"
      ],
      "execution_count": null,
      "outputs": [
        {
          "output_type": "stream",
          "text": [
            "Found 222018 images belonging to 2 classes.\n",
            "Found 27751 images belonging to 2 classes.\n"
          ],
          "name": "stdout"
        }
      ]
    },
    {
      "cell_type": "code",
      "metadata": {
        "id": "CY5tF5XA--Y9"
      },
      "source": [
        "def plotImages(images_arr):\n",
        "    # 1 row, 5 columns and 20x20 each figure.\n",
        "    fig, axes = plt.subplots(1, 5, figsize=(15, 15))\n",
        "    # axes. flatten makes the 2D figures into 1D\n",
        "    axes = axes.flatten()\n",
        "    for img, ax in zip(images_arr, axes):\n",
        "        ax.imshow(img)\n",
        "        # dont display the axis.(x, y)\n",
        "        ax.axis('off')\n",
        "    plt.tight_layout()\n",
        "    plt.show()"
      ],
      "execution_count": null,
      "outputs": []
    },
    {
      "cell_type": "code",
      "metadata": {
        "id": "8yPhRjpE_DdX",
        "colab": {
          "base_uri": "https://localhost:8080/",
          "height": 234
        },
        "outputId": "1b7590e4-cb53-4ef7-fe82-f26fc32fee5c"
      },
      "source": [
        "# visualize data, next will get the first item of the iterative(train_data_gen)\n",
        "# and it will be length of the batch size. Also it will give back the training\n",
        "# labels(variable _) and because we dont need it we discard it.\n",
        "sample_training_images, _ = next(train_data_gen)\n",
        "# This function will plot images in the form of a grid with 1 row and 5 columns where images are placed in each column.\n",
        "plotImages(sample_training_images[:5])"
      ],
      "execution_count": null,
      "outputs": [
        {
          "output_type": "display_data",
          "data": {
            "image/png": "[encoded data removed]",
            "text/plain": [
              "<Figure size 1080x1080 with 5 Axes>"
            ]
          },
          "metadata": {
            "tags": [],
            "needs_background": "light"
          }
        }
      ]
    },
    {
      "cell_type": "code",
      "metadata": {
        "id": "wXYEfp5N_Zv0"
      },
      "source": [
        "train_images = len(os.listdir(train_dir + '/class_0')) + len(os.listdir(train_dir + '/class_1'))\n",
        "total_val_images = len(os.listdir(validation_dir + '/class_0')) + len(os.listdir(validation_dir + '/class_1'))"
      ],
      "execution_count": null,
      "outputs": []
    },
    {
      "cell_type": "code",
      "metadata": {
        "id": "RYQvKNov_Fm7",
        "colab": {
          "base_uri": "https://localhost:8080/",
          "height": 969
        },
        "outputId": "24b37116-a96f-4c2a-8a89-a37ecd0d0129"
      },
      "source": [
        "model = Sequential([\n",
        "                    Conv2D(32, 3, padding='same', input_shape=(IMG_HEIGHT, IMG_WIDTH, COLOR_DEPTH)),\n",
        "                    BatchNormalization(),\n",
        "                    #LeakyReLU(alpha=0.05),\n",
        "                    Activation('relu'),\n",
        "                    MaxPooling2D(),\n",
        "                    Conv2D(64, 3, padding='same'),\n",
        "                    BatchNormalization(),\n",
        "                    #LeakyReLU(alpha=0.05),\n",
        "                    Activation('relu'),\n",
        "                    MaxPooling2D(),\n",
        "                    Conv2D(128, 3, padding='same'),\n",
        "                    BatchNormalization(),\n",
        "                    #LeakyReLU(alpha=0.05),\n",
        "                    Activation('relu'),\n",
        "                    MaxPooling2D(),\n",
        "                    Conv2D(256, 3, padding='same'),\n",
        "                    BatchNormalization(),\n",
        "                    #LeakyReLU(alpha=0.05),\n",
        "                    Activation('relu'),\n",
        "                    #MaxPooling2D(),\n",
        "                    #Dropout(0.2),\n",
        "                    Flatten(),\n",
        "                    Dense(128),\n",
        "                    #LeakyReLU(alpha=0.05),\n",
        "                    BatchNormalization(),\n",
        "                    Activation('relu'),\n",
        "                    Dropout(0.2),\n",
        "                    Dense(64),\n",
        "                    #LeakyReLU(alpha=0.05),\n",
        "                    BatchNormalization(),\n",
        "                    Activation('relu'),\n",
        "                    #Dropout(0.2),\n",
        "                    # Dense(1024),\n",
        "                    # BatchNormalization(),\n",
        "                    # #LeakyReLU(alpha=0.05),\n",
        "                    # Activation('relu'),\n",
        "                    #Dropout(0.2),\n",
        "                    Dense(1, activation='sigmoid')\n",
        "])\n",
        "model.summary()"
      ],
      "execution_count": null,
      "outputs": [
        {
          "output_type": "stream",
          "text": [
            "Model: \"sequential_5\"\n",
            "_________________________________________________________________\n",
            "Layer (type)                 Output Shape              Param #   \n",
            "=================================================================\n",
            "conv2d_20 (Conv2D)           (None, 50, 50, 32)        896       \n",
            "_________________________________________________________________\n",
            "batch_normalization_31 (Batc (None, 50, 50, 32)        128       \n",
            "_________________________________________________________________\n",
            "activation_31 (Activation)   (None, 50, 50, 32)        0         \n",
            "_________________________________________________________________\n",
            "max_pooling2d_15 (MaxPooling (None, 25, 25, 32)        0         \n",
            "_________________________________________________________________\n",
            "conv2d_21 (Conv2D)           (None, 25, 25, 64)        18496     \n",
            "_________________________________________________________________\n",
            "batch_normalization_32 (Batc (None, 25, 25, 64)        256       \n",
            "_________________________________________________________________\n",
            "activation_32 (Activation)   (None, 25, 25, 64)        0         \n",
            "_________________________________________________________________\n",
            "max_pooling2d_16 (MaxPooling (None, 12, 12, 64)        0         \n",
            "_________________________________________________________________\n",
            "conv2d_22 (Conv2D)           (None, 12, 12, 128)       73856     \n",
            "_________________________________________________________________\n",
            "batch_normalization_33 (Batc (None, 12, 12, 128)       512       \n",
            "_________________________________________________________________\n",
            "activation_33 (Activation)   (None, 12, 12, 128)       0         \n",
            "_________________________________________________________________\n",
            "max_pooling2d_17 (MaxPooling (None, 6, 6, 128)         0         \n",
            "_________________________________________________________________\n",
            "conv2d_23 (Conv2D)           (None, 6, 6, 256)         295168    \n",
            "_________________________________________________________________\n",
            "batch_normalization_34 (Batc (None, 6, 6, 256)         1024      \n",
            "_________________________________________________________________\n",
            "activation_34 (Activation)   (None, 6, 6, 256)         0         \n",
            "_________________________________________________________________\n",
            "flatten_5 (Flatten)          (None, 9216)              0         \n",
            "_________________________________________________________________\n",
            "dense_17 (Dense)             (None, 128)               1179776   \n",
            "_________________________________________________________________\n",
            "batch_normalization_35 (Batc (None, 128)               512       \n",
            "_________________________________________________________________\n",
            "activation_35 (Activation)   (None, 128)               0         \n",
            "_________________________________________________________________\n",
            "dropout_8 (Dropout)          (None, 128)               0         \n",
            "_________________________________________________________________\n",
            "dense_18 (Dense)             (None, 64)                8256      \n",
            "_________________________________________________________________\n",
            "batch_normalization_36 (Batc (None, 64)                256       \n",
            "_________________________________________________________________\n",
            "activation_36 (Activation)   (None, 64)                0         \n",
            "_________________________________________________________________\n",
            "dense_19 (Dense)             (None, 1)                 65        \n",
            "=================================================================\n",
            "Total params: 1,579,201\n",
            "Trainable params: 1,577,857\n",
            "Non-trainable params: 1,344\n",
            "_________________________________________________________________\n"
          ],
          "name": "stdout"
        }
      ]
    },
    {
      "cell_type": "code",
      "metadata": {
        "id": "iMivh0vT_OWA"
      },
      "source": [
        "# SAVE weights in order to reinitialize without change names.\n",
        "from tensorflow.keras import optimizers\n",
        "sgd = optimizers.SGD(lr=0.01, decay=1e-6, momentum=0.9, nesterov=False)\n",
        "model.compile(optimizer='adam',\n",
        "              loss='binary_crossentropy',\n",
        "              metrics = METRICS)\n",
        "# simple early stopping\n",
        "#es = EarlyStopping(monitor='val_f1_score', mode='max', verbose=1, patience = 3)\n",
        "mc = ModelCheckpoint('best_model.h5', monitor='val_f1_score', mode='max', verbose=1, save_best_only=True)\n",
        "# train our model.\n",
        "start = time.time()\n",
        "model.save('temp_model.h5')\n",
        "history = model.fit(\n",
        "    train_data_gen,\n",
        "    steps_per_epoch=train_images // batch_size,\n",
        "    epochs=epochs,\n",
        "    validation_data=val_data_gen,\n",
        "    validation_steps=total_val_images // batch_size,\n",
        "    callbacks = [mc]\n",
        ")\n",
        "\n",
        "print('Time taken for training : ', time.time() - start)"
      ],
      "execution_count": null,
      "outputs": []
    },
    {
      "cell_type": "code",
      "metadata": {
        "id": "aBpoIgGTDoe3"
      },
      "source": [
        "model.load_weights('64BatchAdamAlgorithmConv32_64_128_256BNReLUMaxPooling(Nolastlayer)Dense(128dropout0.2,64)F1SCORE_0.807Epoch18.h5')"
      ],
      "execution_count": null,
      "outputs": []
    },
    {
      "cell_type": "code",
      "metadata": {
        "id": "YEfroXX1j7ZO",
        "colab": {
          "base_uri": "https://localhost:8080/",
          "height": 122
        },
        "outputId": "7f82c653-8335-404c-b8b0-4b32826fa2e2"
      },
      "source": [
        "from google.colab import drive\n",
        "drive.mount('/content/drive')"
      ],
      "execution_count": null,
      "outputs": [
        {
          "output_type": "stream",
          "text": [
            "Go to this URL in a browser: https://accounts.google.com/o/oauth2/auth?client_id=947318989803-6bn6qk8qdgf4n4g3pfee6491hc0brc4i.apps.googleusercontent.com&redirect_uri=urn%3aietf%3awg%3aoauth%3a2.0%3aoob&response_type=code&scope=email%20https%3a%2f%2fwww.googleapis.com%2fauth%2fdocs.test%20https%3a%2f%2fwww.googleapis.com%2fauth%2fdrive%20https%3a%2f%2fwww.googleapis.com%2fauth%2fdrive.photos.readonly%20https%3a%2f%2fwww.googleapis.com%2fauth%2fpeopleapi.readonly\n",
            "\n",
            "Enter your authorization code:\n",
            "··········\n",
            "Mounted at /content/drive\n"
          ],
          "name": "stdout"
        }
      ]
    },
    {
      "cell_type": "code",
      "metadata": {
        "id": "Ms9dn0_gbEbt"
      },
      "source": [
        "# \\ is escape charcther for My Drive\n",
        "!mv best_model.h5 /content/drive/My\\ Drive/BestModels/"
      ],
      "execution_count": null,
      "outputs": []
    },
    {
      "cell_type": "code",
      "metadata": {
        "id": "XX83N5CNO9lF"
      },
      "source": [
        "\n",
        "# Now visualize the results after training the network\n",
        "recall = history.history['recall']\n",
        "val_recall = history.history['val_recall']\n",
        "\n",
        "precision = history.history['precision']\n",
        "val_precision = history.history['val_precision']\n",
        "\n",
        "epochs_range = range(11)"
      ],
      "execution_count": null,
      "outputs": []
    },
    {
      "cell_type": "code",
      "metadata": {
        "id": "_E5yLTjxj8Iw"
      },
      "source": [
        "# Now visualize the results after training the network\n",
        "loss = history.history['loss']\n",
        "val_loss = history.history['val_loss']\n",
        "\n",
        "acc = history.history['accuracy']\n",
        "val_acc = history.history['val_accuracy']\n",
        "\n",
        "plt.figure(figsize=(8, 8))\n",
        "plt.subplot(1, 2, 1)\n",
        "plt.plot(epochs_range, acc, label='Training Accuracy')\n",
        "plt.plot(epochs_range, val_acc, label='Validation Accuracy')\n",
        "plt.legend(loc='lower right')\n",
        "plt.title('Training and Validation Accuracy')\n",
        "\n",
        "plt.subplot(1, 2, 2)\n",
        "plt.plot(epochs_range, loss, label='Training Loss')\n",
        "plt.plot(epochs_range, val_loss, label='Validation Loss')\n",
        "plt.legend(loc='upper right')\n",
        "plt.title('Training and Validation Loss')\n",
        "plt.show()"
      ],
      "execution_count": null,
      "outputs": []
    },
    {
      "cell_type": "code",
      "metadata": {
        "id": "QFMF3ITO_Xyp"
      },
      "source": [
        "# alternatively fig, axes = plt.subplots(1,2, figsize=(8, 8))\n",
        "# for ax in axes:\n",
        "#   ax.plot()...\n",
        "plt.figure(figsize=(8, 8))\n",
        "plt.subplot(1, 2, 1)\n",
        "plt.plot(epochs_range, recall, label='Training Recall')\n",
        "plt.plot(epochs_range, val_recall, label='Validation Recall')\n",
        "plt.legend(loc='lower right')\n",
        "plt.title('Training and Validation Recall')\n",
        "\n",
        "plt.subplot(1, 2, 2)\n",
        "plt.plot(epochs_range, precision, label='Training Precision')\n",
        "plt.plot(epochs_range, val_precision, label='Validation Precision')\n",
        "plt.legend(loc='upper right')\n",
        "plt.title('Training and Validation Precision')\n",
        "plt.show()"
      ],
      "execution_count": null,
      "outputs": []
    },
    {
      "cell_type": "code",
      "metadata": {
        "id": "2n3qoKOdbSJU",
        "colab": {
          "base_uri": "https://localhost:8080/",
          "height": 255
        },
        "outputId": "309d81da-6541-40bf-989a-76f92a9db798"
      },
      "source": [
        "val_data_generator =  ImageDataGenerator(rescale = 1./255)\n",
        "val_data_gen = val_data_generator.flow_from_directory(batch_size=batch_size,\n",
        "                                                              directory= validation_dir,\n",
        "                                                              shuffle=False,\n",
        "                                                              target_size=(IMG_HEIGHT, IMG_WIDTH),\n",
        "                                                              class_mode= None)\n",
        "\n",
        "import math\n",
        "# we get a little bit different results as far as FP,TP,FN,TN is concerned because the total_val_images aren't an exact divisor of batch_size\n",
        "probabilities = model.predict(val_data_gen, steps = math.ceil(total_val_images// batch_size) + 1, verbose = 1)\n",
        "\n",
        "from sklearn.metrics import confusion_matrix, classification_report\n",
        "\n",
        "y_pred = probabilities >= 0.5\n",
        "labels = [1,0]\n",
        "conf = confusion_matrix(val_data_gen.classes,y_pred, labels)\n",
        "\n",
        "\n",
        "tn, fp, fn, tp = conf.ravel()\n",
        "print('TN:', tn,'FP:', fp,'FN:', fn,'TP:', tp)\n",
        "\n",
        "reg_conf = np.array([[tp,fp],[fn,tn]])\n",
        "print(reg_conf)\n",
        "#print f_score and recall bla bla\n",
        "print(classification_report(val_data_gen.classes, y_pred))\n",
        "#val_loss: 0.9149 - val_FP: 303.0000 - #val_TP: 2495.0000 - val_FN: 5344.0000 - val_TN: 19570.0000 - \n",
        "#val_accuracy: 0.7962 - val_precision: 0.8917 - val_recall: 0.3183 - val_auc: 0.8351 - val_f1_score: 0.4691"
      ],
      "execution_count": null,
      "outputs": [
        {
          "output_type": "stream",
          "text": [
            "Found 27751 images belonging to 2 classes.\n",
            "434/434 [==============================] - 10s 23ms/step\n",
            "TN: 6743 FP: 1135 FN: 2148 TP: 17725\n",
            "[[17725  1135]\n",
            " [ 2148  6743]]\n",
            "              precision    recall  f1-score   support\n",
            "\n",
            "           0       0.94      0.89      0.92     19873\n",
            "           1       0.76      0.86      0.80      7878\n",
            "\n",
            "    accuracy                           0.88     27751\n",
            "   macro avg       0.85      0.87      0.86     27751\n",
            "weighted avg       0.89      0.88      0.88     27751\n",
            "\n"
          ],
          "name": "stdout"
        }
      ]
    },
    {
      "cell_type": "code",
      "metadata": {
        "id": "jg1zRbQPmNyx",
        "colab": {
          "base_uri": "https://localhost:8080/",
          "height": 475
        },
        "outputId": "22577446-27ab-47c7-b77a-aa607842f485"
      },
      "source": [
        "fig, ax = plt.subplots(figsize=(10,7))  \n",
        "sn.heatmap(reg_conf,annot=True,cmap='BuPu', fmt='g', ax = ax)\n",
        "# labels, title and ticks\n",
        "# 0 is not cancer 1 is cancer\n",
        "ax.set_xlabel('True labels')\n",
        "ax.set_ylabel('Predicted labels') \n",
        "ax.set_title('Confusion Matrix')"
      ],
      "execution_count": null,
      "outputs": [
        {
          "output_type": "execute_result",
          "data": {
            "text/plain": [
              "Text(0.5, 1.0, 'Confusion Matrix')"
            ]
          },
          "metadata": {
            "tags": []
          },
          "execution_count": 37
        },
        {
          "output_type": "display_data",
          "data": {
            "image/png": "[encoded data removed]",
            "text/plain": [
              "<Figure size 720x504 with 2 Axes>"
            ]
          },
          "metadata": {
            "tags": [],
            "needs_background": "light"
          }
        }
      ]
    },
    {
      "cell_type": "code",
      "metadata": {
        "id": "x01T2TBjWicf",
        "colab": {
          "base_uri": "https://localhost:8080/",
          "height": 255
        },
        "outputId": "c66a65ff-a767-4493-dfd0-7a6be87cfed2"
      },
      "source": [
        "test_data_generator =  ImageDataGenerator(rescale = 1./255)\n",
        "test_data_gen = test_data_generator.flow_from_directory(batch_size=batch_size,\n",
        "                                                              directory= test_dir,\n",
        "                                                              shuffle=False,\n",
        "                                                              target_size=(IMG_HEIGHT, IMG_WIDTH),\n",
        "                                                              class_mode='binary')\n",
        "probabilities = model.predict(test_data_gen,steps = len(test_data_gen.filenames)//batch_size + 1, verbose = 1)\n",
        "\n",
        "from sklearn.metrics import confusion_matrix\n",
        "from sklearn.metrics import f1_score\n",
        "\n",
        "\n",
        "y_pred = probabilities > 0.5\n",
        "labels = [1,0]\n",
        "from sklearn.metrics import classification_report\n",
        "conf = confusion_matrix(test_data_gen.classes,y_pred, labels)\n",
        "tn, fp, fn, tp = conf.ravel()\n",
        "print('TN:', tn,'FP:', fp,'FN:', fn,'TP:', tp)\n",
        "\n",
        "reg_conf = np.array([[tp,fp],[fn,tn]])\n",
        "print(reg_conf)\n",
        "# print f_score and recall bla bla\n",
        "print(classification_report(test_data_gen.classes, y_pred, digits = 5))"
      ],
      "execution_count": null,
      "outputs": [
        {
          "output_type": "stream",
          "text": [
            "Found 27755 images belonging to 2 classes.\n",
            "434/434 [==============================] - 10s 22ms/step\n",
            "TN: 6433 FP: 1447 FN: 1669 TP: 18206\n",
            "[[18206  1447]\n",
            " [ 1669  6433]]\n",
            "              precision    recall  f1-score   support\n",
            "\n",
            "           0    0.92637   0.91603   0.92117     19875\n",
            "           1    0.79400   0.81637   0.80503      7880\n",
            "\n",
            "    accuracy                        0.88773     27755\n",
            "   macro avg    0.86019   0.86620   0.86310     27755\n",
            "weighted avg    0.88879   0.88773   0.88820     27755\n",
            "\n"
          ],
          "name": "stdout"
        }
      ]
    },
    {
      "cell_type": "code",
      "metadata": {
        "id": "jpV2vAIFi-fy",
        "colab": {
          "base_uri": "https://localhost:8080/",
          "height": 295
        },
        "outputId": "417728bb-2e8c-44a1-bc93-0a0c3bc78a3a"
      },
      "source": [
        "from sklearn.metrics import roc_curve, auc\n",
        "fpr, tpr, thresholds = metrics.roc_curve(test_data_gen.classes, y_pred)\n",
        "roc_auc = auc(fpr, tpr)\n",
        "plt.figure()\n",
        "lw = 2\n",
        "plt.plot(fpr, tpr, color='yellow', lw=lw, label='ROC curve (area = %0.4f)' % roc_auc)\n",
        "plt.plot([0, 1], [0, 1], color='black', lw=lw, linestyle='-')\n",
        "plt.xlim([0.0, 1.0])\n",
        "plt.ylim([0.0, 1.05])\n",
        "plt.xlabel('Ποσοστό Ψευδών Θετικών')\n",
        "plt.ylabel('Ποσοστό Αληθών Θετικών')\n",
        "plt.title('ROC-AUC 2ης Αρχιτεκτονικής')\n",
        "plt.legend(loc=\"lower right\")\n",
        "plt.show()"
      ],
      "execution_count": null,
      "outputs": [
        {
          "output_type": "display_data",
          "data": {
            "image/png": "[encoded data removed]",
            "text/plain": [
              "<Figure size 432x288 with 1 Axes>"
            ]
          },
          "metadata": {
            "tags": [],
            "needs_background": "light"
          }
        }
      ]
    },
    {
      "cell_type": "code",
      "metadata": {
        "id": "2LqpD7WoCvmL",
        "colab": {
          "base_uri": "https://localhost:8080/",
          "height": 476
        },
        "outputId": "de57f785-a8ab-41a4-dee2-f70e5386cb79"
      },
      "source": [
        "fig, ax = plt.subplots(figsize=(10,7))  \n",
        "sn.heatmap(reg_conf,annot=True,cmap='BuGn', fmt='g', ax = ax)\n",
        "# labels, title and ticks\n",
        "# 0 is not cancer 1 is cancer\n",
        "ax.set_xlabel('Πραγματική Κλάση')\n",
        "ax.set_ylabel('Προβλεπόμενη Κλάση') \n",
        "ax.set_title('Πίνακας Σύγχισης')"
      ],
      "execution_count": null,
      "outputs": [
        {
          "output_type": "execute_result",
          "data": {
            "text/plain": [
              "Text(0.5, 1.0, 'Πίνακας Σύγχισης')"
            ]
          },
          "metadata": {
            "tags": []
          },
          "execution_count": 73
        },
        {
          "output_type": "display_data",
          "data": {
            "image/png": "[encoded data removed]",
            "text/plain": [
              "<Figure size 720x504 with 2 Axes>"
            ]
          },
          "metadata": {
            "tags": [],
            "needs_background": "light"
          }
        }
      ]
    },
    {
      "cell_type": "code",
      "metadata": {
        "id": "404YAUavi4kd"
      },
      "source": [
        ""
      ],
      "execution_count": null,
      "outputs": []
    }
  ]
}